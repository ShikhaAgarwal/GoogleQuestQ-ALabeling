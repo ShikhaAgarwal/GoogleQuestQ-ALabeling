{
 "cells": [
  {
   "cell_type": "code",
   "execution_count": 2,
   "metadata": {},
   "outputs": [],
   "source": [
    "import numpy as np\n",
    "import pandas as pd\n",
    "import nltk\n",
    "from nltk.tokenize import sent_tokenize, word_tokenize\n",
    "\n",
    "%load_ext autoreload\n",
    "%autoreload 2"
   ]
  },
  {
   "cell_type": "code",
   "execution_count": 3,
   "metadata": {},
   "outputs": [],
   "source": [
    "path = '/Users/shikha/Documents/projects/kaggle/google_qa/'\n",
    "train_file = path + \"google_qa_train.csv\"\n",
    "test_file = path + \"google_qa_test.csv\"\n",
    "\n",
    "df = pd.read_csv(train_file)\n",
    "df_test = pd.read_csv(test_file)"
   ]
  },
  {
   "cell_type": "code",
   "execution_count": 4,
   "metadata": {},
   "outputs": [
    {
     "name": "stdout",
     "output_type": "stream",
     "text": [
      "we have 10 feature columns and 30 target columns\n"
     ]
    }
   ],
   "source": [
    "feat_cols = [\n",
    "    'question_title', \n",
    "    'question_body', \n",
    "    'question_user_name', \n",
    "    'question_user_page', \n",
    "    'answer', \n",
    "    'answer_user_name', \n",
    "    'answer_user_page', \n",
    "    'url', \n",
    "    'category', \n",
    "    'host']\n",
    "target_cols = [\n",
    "    'question_asker_intent_understanding', \n",
    "    'question_body_critical', \n",
    "    'question_conversational', \n",
    "    'question_expect_short_answer', \n",
    "    'question_fact_seeking', \n",
    "    'question_has_commonly_accepted_answer',\n",
    "    'question_interestingness_others', \n",
    "    'question_interestingness_self', \n",
    "    'question_multi_intent', \n",
    "    'question_not_really_a_question', \n",
    "    'question_opinion_seeking', \n",
    "    'question_type_choice',\n",
    "    'question_type_compare', \n",
    "    'question_type_consequence', \n",
    "    'question_type_definition', \n",
    "    'question_type_entity', \n",
    "    'question_type_instructions', \n",
    "    'question_type_procedure', \n",
    "    'question_type_reason_explanation', \n",
    "    'question_type_spelling',\n",
    "    'question_well_written', \n",
    "    'answer_helpful', \n",
    "    'answer_level_of_information', \n",
    "    'answer_plausible', \n",
    "    'answer_relevance', \n",
    "    'answer_satisfaction', \n",
    "    'answer_type_instructions', \n",
    "    'answer_type_procedure', \n",
    "    'answer_type_reason_explanation',\n",
    "    'answer_well_written'\n",
    "]\n",
    "print('we have %d feature columns and %d target columns' % (len(feat_cols) , len(target_cols)))"
   ]
  },
  {
   "cell_type": "code",
   "execution_count": 5,
   "metadata": {},
   "outputs": [],
   "source": [
    "# df['question_title_len'] = df['question_title'].map(lambda x: len(word_tokenize(x.decode('utf-8'))))\n",
    "# df['question_body_len'] = df['question_body'].map(lambda x: len(word_tokenize(x.decode('utf-8'))))\n",
    "# df['answer_len'] = df['answer'].map(lambda x: len(word_tokenize(x.decode('utf-8'))))"
   ]
  },
  {
   "cell_type": "code",
   "execution_count": 5,
   "metadata": {},
   "outputs": [],
   "source": [
    "X_train = df.filter(feat_cols, axis=1)\n",
    "Y_train = df[target_cols]\n",
    "X_test = df_test.filter(feat_cols, axis=1)"
   ]
  },
  {
   "cell_type": "code",
   "execution_count": 6,
   "metadata": {},
   "outputs": [],
   "source": [
    "from sklearn.base import BaseEstimator\n",
    "from sklearn.base import TransformerMixin\n",
    "\n",
    "class TextLengthFeature(BaseEstimator, TransformerMixin):\n",
    "    \"\"\"Extract features from each document for DictVectorizer\"\"\"\n",
    "\n",
    "    def fit(self, x, y=None):\n",
    "        return self\n",
    "\n",
    "    def transform(self, x, y=None):\n",
    "        new_feature = x.map(lambda a: len(word_tokenize(a)))\n",
    "        new_feature_r = np.reshape(new_feature.values, (new_feature.size, 1))\n",
    "        return new_feature_r"
   ]
  },
  {
   "cell_type": "code",
   "execution_count": 7,
   "metadata": {},
   "outputs": [],
   "source": [
    "from sklearn.pipeline import Pipeline\n",
    "from sklearn.pipeline import FeatureUnion\n",
    "from sklearn.preprocessing import StandardScaler,OneHotEncoder\n",
    "from sklearn.feature_extraction.text import TfidfVectorizer\n",
    "from sklearn.compose import ColumnTransformer\n",
    "from sklearn.linear_model import LogisticRegression\n",
    "from sklearn.model_selection import train_test_split\n",
    "from sklearn.pipeline import make_pipeline\n",
    "from sklearn.decomposition import TruncatedSVD\n",
    "\n",
    "numerical_attribute = list(X_train[['question_title', 'question_body', 'answer']])\n",
    "categorical_attribute = list(X_train[['category', 'host']])\n",
    "tfidf = TfidfVectorizer(min_df=1, strip_accents='unicode', analyzer='word',token_pattern=r'\\w{1,}',\n",
    "            ngram_range=(1, 3),use_idf=1,smooth_idf=1,sublinear_tf=1,stop_words = 'english')\n",
    "\n",
    "# Onehotencoding is performed for transforming categorical values as numerical\n",
    "categorical_transformer = Pipeline([\n",
    "    ('one_hot_encoder', OneHotEncoder())\n",
    "])\n",
    "\n",
    "# FeatureUnion: to concatenate features from both the transformer\n",
    "# Pipeline: output of one transformer is fed into the next one (follows sequential order)\n",
    "len_qt = Pipeline([('len_qt', TextLengthFeature()),\n",
    "             ('len_qt_norm', StandardScaler())\n",
    "    ])\n",
    "len_qb = Pipeline([('len_qb', TextLengthFeature()),\n",
    "             ('len_qb_norm', StandardScaler())\n",
    "    ])\n",
    "len_a = Pipeline([('len_a', TextLengthFeature()),\n",
    "             ('len_a_norm', StandardScaler())\n",
    "    ])\n",
    "question_title_tr = FeatureUnion([\n",
    "#     ('len_qt', TextLengthFeature()),\n",
    "    ('len_qt', len_qt),\n",
    "    ('tfidf_qt', tfidf)\n",
    "])\n",
    "    \n",
    "question_body_tr = FeatureUnion([\n",
    "    ('len_qb', len_qb),\n",
    "    ('tfidf_qb', tfidf)\n",
    "])\n",
    "    \n",
    "answer_tr = FeatureUnion([\n",
    "    ('len_a', len_a),\n",
    "    ('tfidf_a', tfidf)\n",
    "])\n",
    "\n",
    "transformer = ColumnTransformer(\n",
    "    transformers=[\n",
    "        ('question_title_tr', question_title_tr, 'question_title'),\n",
    "        ('question_body_tr', question_body_tr, 'question_body'),\n",
    "        ('answer_tr', answer_tr, 'answer'),\n",
    "        ('cat', OneHotEncoder(handle_unknown = 'ignore'), categorical_attribute)\n",
    "    ], remainder = 'drop')"
   ]
  },
  {
   "cell_type": "code",
   "execution_count": 9,
   "metadata": {},
   "outputs": [],
   "source": [
    "import torch\n",
    "import torch.nn as nn\n",
    "\n",
    "def enc_block(in_f, out_f, activation='relu', dropout=0.25, *args, **kwargs):\n",
    "    activations = nn.ModuleDict([\n",
    "                ['lrelu', nn.LeakyReLU()],\n",
    "                ['relu', nn.ReLU()]\n",
    "    ])\n",
    "    \n",
    "    return nn.Sequential(\n",
    "        nn.Linear(in_f, out_f),\n",
    "        nn.Dropout(dropout),\n",
    "        activations[activation],\n",
    "    )\n",
    "\n",
    "def dec_block(in_f, out_f):\n",
    "    return nn.Sequential(\n",
    "        nn.Linear(in_f, out_f),\n",
    "        nn.Sigmoid()\n",
    "    )\n",
    "\n",
    "class MyEncoder(nn.Module):\n",
    "    def __init__(self, enc_sizes, *args, **kwargs):\n",
    "        super().__init__()\n",
    "        self.enc_blocks = nn.Sequential(*[enc_block(in_f, out_f, kernel_size=3, padding=1, *args, **kwargs) \n",
    "                       for in_f, out_f in zip(enc_sizes, enc_sizes[1:])])\n",
    "        \n",
    "    def forward(self, x):\n",
    "        return self.enc_blocks(x)\n",
    "        \n",
    "class MyDecoder(nn.Module):\n",
    "    def __init__(self, dec_sizes, n_classes):\n",
    "        super().__init__()\n",
    "\n",
    "        self.dec_blocks = nn.Sequential(*[dec_block(in_f, out_f) \n",
    "                       for in_f, out_f in zip(dec_sizes, dec_sizes[1:])])\n",
    "\n",
    "    def forward(self, x):\n",
    "        return self.dec_blocks(x)\n",
    "    \n",
    "    \n",
    "class MyNNClassifier(nn.Module):\n",
    "    def __init__(self, in_c, enc_sizes, dec_sizes,  n_classes, activation='relu', dropout=0.25):\n",
    "        super().__init__()\n",
    "        self.enc_sizes = [in_c, *enc_sizes]\n",
    "        self.dec_sizes = [*dec_sizes, n_classes]\n",
    "\n",
    "        self.encoder = MyEncoder(self.enc_sizes, activation=activation, dropout=dropout)\n",
    "        self.decoder = MyDecoder(self.dec_sizes, n_classes)\n",
    "        \n",
    "    def forward(self, x):\n",
    "        x = self.encoder(x)\n",
    "        \n",
    "        x = x.flatten(1) # flat\n",
    "        \n",
    "        x = self.decoder(x)\n",
    "        \n",
    "        return x"
   ]
  },
  {
   "cell_type": "code",
   "execution_count": 10,
   "metadata": {},
   "outputs": [
    {
     "name": "stdout",
     "output_type": "stream",
     "text": [
      "cpu\n"
     ]
    }
   ],
   "source": [
    "device = torch.device('cpu')\n",
    "if torch.cuda.is_available():\n",
    "    device = torch.device('cuda:0')\n",
    "print(device)"
   ]
  },
  {
   "cell_type": "code",
   "execution_count": 11,
   "metadata": {},
   "outputs": [],
   "source": [
    "def csrToTensor(x):\n",
    "    coo = x.tocoo()\n",
    "    values = coo.data\n",
    "    indices = np.vstack((coo.row, coo.col))\n",
    "    i = torch.LongTensor(indices)\n",
    "    v = torch.FloatTensor(values)\n",
    "    shape = coo.shape\n",
    "    return torch.sparse.FloatTensor(i, v, torch.Size(shape)).to_dense().to(device)"
   ]
  },
  {
   "cell_type": "code",
   "execution_count": 12,
   "metadata": {},
   "outputs": [],
   "source": [
    "# Training\n",
    "def train(model, optimizer, criterion, X, y, epoch):\n",
    "    model.train()   \n",
    "    optimizer.zero_grad()\n",
    "    output = model.forward(X)\n",
    "    loss = criterion(output.float(), y.float())\n",
    "    loss.backward()\n",
    "    optimizer.step()\n",
    "        \n",
    "    print('Epoch {}, Loss {}'.format(epoch, loss.data.numpy()))\n",
    "    return loss.item()"
   ]
  },
  {
   "cell_type": "code",
   "execution_count": 13,
   "metadata": {},
   "outputs": [],
   "source": [
    "def evaluate(model, X, y, epoch):\n",
    "    model.eval()\n",
    "    with torch.no_grad():\n",
    "        output = model.forward(X)\n",
    "        loss = criterion(output.float(), y.float())\n",
    "            \n",
    "        print('Epoch {}, Eval Loss {}'.format(epoch, loss.data.numpy()))\n",
    "        return loss.item()"
   ]
  },
  {
   "cell_type": "code",
   "execution_count": 18,
   "metadata": {},
   "outputs": [
    {
     "name": "stdout",
     "output_type": "stream",
     "text": [
      "MyNNClassifier(\n",
      "  (encoder): MyEncoder(\n",
      "    (enc_blocks): Sequential(\n",
      "      (0): Sequential(\n",
      "        (0): Linear(in_features=1424, out_features=512, bias=True)\n",
      "        (1): Dropout(p=0.25, inplace=False)\n",
      "        (2): ReLU()\n",
      "      )\n",
      "      (1): Sequential(\n",
      "        (0): Linear(in_features=512, out_features=256, bias=True)\n",
      "        (1): Dropout(p=0.25, inplace=False)\n",
      "        (2): ReLU()\n",
      "      )\n",
      "    )\n",
      "  )\n",
      "  (decoder): MyDecoder(\n",
      "    (dec_blocks): Sequential(\n",
      "      (0): Sequential(\n",
      "        (0): Linear(in_features=256, out_features=30, bias=True)\n",
      "        (1): Sigmoid()\n",
      "      )\n",
      "    )\n",
      "  )\n",
      ")\n",
      "Epoch 1, Loss 0.6876083016395569\n",
      "Epoch 1, Eval Loss 0.6845369338989258\n",
      "Epoch 2, Loss 0.6813168525695801\n",
      "Epoch 2, Eval Loss 0.6808241009712219\n",
      "Epoch 3, Loss 0.675881564617157\n",
      "Epoch 3, Eval Loss 0.6766317486763\n",
      "Epoch 4, Loss 0.6659879684448242\n",
      "Epoch 4, Eval Loss 0.6718522906303406\n",
      "Epoch 5, Loss 0.6550639867782593\n",
      "Epoch 5, Eval Loss 0.6662967801094055\n",
      "Epoch 6, Loss 0.6368308663368225\n",
      "Epoch 6, Eval Loss 0.6597452759742737\n",
      "Epoch 7, Loss 0.6256996393203735\n",
      "Epoch 7, Eval Loss 0.652113139629364\n",
      "Epoch 8, Loss 0.6046028137207031\n",
      "Epoch 8, Eval Loss 0.6432269811630249\n",
      "Epoch 9, Loss 0.5755367875099182\n",
      "Epoch 9, Eval Loss 0.6330745816230774\n"
     ]
    },
    {
     "name": "stderr",
     "output_type": "stream",
     "text": [
      "/anaconda2/envs/py36/lib/python3.6/site-packages/scipy/stats/stats.py:4196: SpearmanRConstantInputWarning: An input array is constant; the correlation coefficent is not defined.\n",
      "  warnings.warn(SpearmanRConstantInputWarning())\n"
     ]
    },
    {
     "name": "stdout",
     "output_type": "stream",
     "text": [
      "MyNNClassifier(\n",
      "  (encoder): MyEncoder(\n",
      "    (enc_blocks): Sequential(\n",
      "      (0): Sequential(\n",
      "        (0): Linear(in_features=1807, out_features=1024, bias=True)\n",
      "        (1): Dropout(p=0.1, inplace=False)\n",
      "        (2): ReLU()\n",
      "      )\n",
      "      (1): Sequential(\n",
      "        (0): Linear(in_features=1024, out_features=512, bias=True)\n",
      "        (1): Dropout(p=0.1, inplace=False)\n",
      "        (2): ReLU()\n",
      "      )\n",
      "    )\n",
      "  )\n",
      "  (decoder): MyDecoder(\n",
      "    (dec_blocks): Sequential(\n",
      "      (0): Sequential(\n",
      "        (0): Linear(in_features=512, out_features=30, bias=True)\n",
      "        (1): Sigmoid()\n",
      "      )\n",
      "    )\n",
      "  )\n",
      ")\n",
      "Epoch 1, Loss 0.6907846927642822\n",
      "Epoch 1, Eval Loss 0.6873748302459717\n",
      "Epoch 2, Loss 0.6789796948432922\n",
      "Epoch 2, Eval Loss 0.6823163628578186\n",
      "Epoch 3, Loss 0.6639504432678223\n",
      "Epoch 3, Eval Loss 0.6761003136634827\n",
      "Epoch 4, Loss 0.6405218243598938\n",
      "Epoch 4, Eval Loss 0.6679505705833435\n",
      "Epoch 5, Loss 0.6081920266151428\n",
      "Epoch 5, Eval Loss 0.6572288870811462\n",
      "Epoch 6, Loss 0.563141942024231\n",
      "Epoch 6, Eval Loss 0.6435437202453613\n",
      "Epoch 7, Loss 0.5157471299171448\n",
      "Epoch 7, Eval Loss 0.6266071796417236\n",
      "Epoch 8, Loss 0.455245703458786\n",
      "Epoch 8, Eval Loss 0.6066086888313293\n",
      "Epoch 9, Loss 0.4068809747695923\n",
      "Epoch 9, Eval Loss 0.584680438041687\n"
     ]
    },
    {
     "name": "stderr",
     "output_type": "stream",
     "text": [
      "/anaconda2/envs/py36/lib/python3.6/site-packages/scipy/stats/stats.py:4196: SpearmanRConstantInputWarning: An input array is constant; the correlation coefficent is not defined.\n",
      "  warnings.warn(SpearmanRConstantInputWarning())\n"
     ]
    },
    {
     "name": "stdout",
     "output_type": "stream",
     "text": [
      "[nan, nan]\n"
     ]
    },
    {
     "data": {
      "image/png": "[encoded data removed]",
      "text/plain": [
       "<Figure size 432x288 with 1 Axes>"
      ]
     },
     "metadata": {
      "needs_background": "light"
     },
     "output_type": "display_data"
    },
    {
     "data": {
      "image/png": "[encoded data removed]",
      "text/plain": [
       "<Figure size 432x288 with 1 Axes>"
      ]
     },
     "metadata": {
      "needs_background": "light"
     },
     "output_type": "display_data"
    }
   ],
   "source": [
    "import torch\n",
    "import torch.nn as nn\n",
    "import gc\n",
    "from sklearn.model_selection import KFold\n",
    "from scipy.stats import spearmanr\n",
    "import torch.nn.functional as F\n",
    "import matplotlib.pyplot as plt\n",
    "\n",
    "folds = 2\n",
    "seed = 922\n",
    "\n",
    "kf = KFold(n_splits=folds, shuffle=True, random_state=seed)\n",
    "test_preds = np.zeros((len(X_test), len(target_cols)))\n",
    "fold_scores = []\n",
    "j=0\n",
    "enc_size = [[512, 256], [1024, 512]]\n",
    "dec_size = [[256], [512]]\n",
    "dropout = [0.25, 0.1]\n",
    "\n",
    "for train_index, val_index in kf.split(X_train[:10]):\n",
    "    x_train, y_train = X_train.iloc[train_index], Y_train.iloc[train_index]\n",
    "    x_val, y_val = X_train.iloc[val_index], Y_train.iloc[val_index]\n",
    "    \n",
    "    X_transformed = csrToTensor(transformer.fit_transform(x_train))\n",
    "    y_train = torch.from_numpy(y_train.values).to(device)\n",
    "    x_val = csrToTensor(transformer.transform(x_val))\n",
    "    y_val = torch.from_numpy(y_val.values).to(device)\n",
    "\n",
    "    \n",
    "    model = MyNNClassifier(X_transformed.shape[1], enc_size[j], dec_size[j], len(target_cols), \n",
    "                           activation='relu', dropout=dropout[j]).to(device)\n",
    "    print(model)\n",
    "    j += 1\n",
    "    \n",
    "    criterion = F.binary_cross_entropy\n",
    "    optimizer = torch.optim.Adam(model.parameters())\n",
    "    \n",
    "    train_losses = []\n",
    "    val_losses = []\n",
    "    for i in range(1, 10):\n",
    "        train_loss = train(model, optimizer, criterion, X_transformed, y_train, i)\n",
    "        val_loss = evaluate(model, x_val, y_val, i)\n",
    "        train_losses.append(train_loss)\n",
    "        val_losses.append(val_loss)\n",
    "\n",
    "    train_losses = np.array(train_losses)\n",
    "    val_losses = np.array(val_losses)\n",
    "\n",
    "    model_path = path + 'model_' + str(j)\n",
    "    torch.save(model.state_dict(), model_path)\n",
    "    \n",
    "    plot_path = path + 'plot_loss_model_' + str(j) + '.png'\n",
    "    plt.figure()\n",
    "    plt.xlabel('Epochs')\n",
    "    plt.ylabel('Loss value')\n",
    "    plt.plot(np.log(train_losses))\n",
    "    plt.plot(np.log(val_losses))\n",
    "    plt.savefig(plot_path)\n",
    "        \n",
    "    preds = model.forward(x_val).detach().numpy()\n",
    "    overall_score = 0\n",
    "    \n",
    "    for col_index, col in enumerate(target_cols):\n",
    "        overall_score += spearmanr(preds[:, col_index], y_val[:, col_index]).correlation/len(target_cols)\n",
    "        \n",
    "    fold_scores.append(overall_score)\n",
    "    del X_transformed\n",
    "    del x_train\n",
    "    del y_train\n",
    "    del x_val\n",
    "    del y_val\n",
    "    gc.collect()\n",
    "\n",
    "print(fold_scores)"
   ]
  },
  {
   "cell_type": "code",
   "execution_count": null,
   "metadata": {},
   "outputs": [],
   "source": [
    "## Save Model:\n",
    "# model_path = '/Users/shikha/Documents/projects/kaggle/google_qa/'\n",
    "# torch.save(model.state_dict(), model_path)\n",
    "\n",
    "## Load model\n",
    "# model = MyNNClassifier(X_transformed.shape[1], enc_size[j], dec_size[j], len(target_cols), activation='relu', dropout=dropout[j])\n",
    "# model.load_state_dict(torch.load(model_path))\n",
    "# model.eval()"
   ]
  }
 ],
 "metadata": {
  "kernelspec": {
   "display_name": "Python 3",
   "language": "python",
   "name": "python3"
  },
  "language_info": {
   "codemirror_mode": {
    "name": "ipython",
    "version": 3
   },
   "file_extension": ".py",
   "mimetype": "text/x-python",
   "name": "python",
   "nbconvert_exporter": "python",
   "pygments_lexer": "ipython3",
   "version": "3.6.12"
  }
 },
 "nbformat": 4,
 "nbformat_minor": 2
}
